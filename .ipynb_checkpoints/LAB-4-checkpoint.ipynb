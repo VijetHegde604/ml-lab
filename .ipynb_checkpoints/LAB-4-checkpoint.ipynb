{
 "cells": [
  {
   "cell_type": "code",
   "execution_count": 20,
   "id": "96a8abd2-4732-4cf9-8551-5bbf0dbd827a",
   "metadata": {},
   "outputs": [],
   "source": [
    "import pandas as pd"
   ]
  },
  {
   "cell_type": "code",
   "execution_count": 21,
   "id": "0debb8bd-7550-4a9c-bb8d-be533e4e0611",
   "metadata": {},
   "outputs": [
    {
     "data": {
      "text/html": [
       "<div>\n",
       "<style scoped>\n",
       "    .dataframe tbody tr th:only-of-type {\n",
       "        vertical-align: middle;\n",
       "    }\n",
       "\n",
       "    .dataframe tbody tr th {\n",
       "        vertical-align: top;\n",
       "    }\n",
       "\n",
       "    .dataframe thead th {\n",
       "        text-align: right;\n",
       "    }\n",
       "</style>\n",
       "<table border=\"1\" class=\"dataframe\">\n",
       "  <thead>\n",
       "    <tr style=\"text-align: right;\">\n",
       "      <th></th>\n",
       "      <th>Outlook</th>\n",
       "      <th>Temperature</th>\n",
       "      <th>Humidity</th>\n",
       "      <th>Wind</th>\n",
       "      <th>PlayTennis</th>\n",
       "    </tr>\n",
       "  </thead>\n",
       "  <tbody>\n",
       "    <tr>\n",
       "      <th>0</th>\n",
       "      <td>Sunny</td>\n",
       "      <td>Hot</td>\n",
       "      <td>High</td>\n",
       "      <td>Weak</td>\n",
       "      <td>Yes</td>\n",
       "    </tr>\n",
       "    <tr>\n",
       "      <th>1</th>\n",
       "      <td>Sunny</td>\n",
       "      <td>Hot</td>\n",
       "      <td>High</td>\n",
       "      <td>Strong</td>\n",
       "      <td>Yes</td>\n",
       "    </tr>\n",
       "    <tr>\n",
       "      <th>2</th>\n",
       "      <td>Overcast</td>\n",
       "      <td>Hot</td>\n",
       "      <td>High</td>\n",
       "      <td>Weak</td>\n",
       "      <td>No</td>\n",
       "    </tr>\n",
       "    <tr>\n",
       "      <th>3</th>\n",
       "      <td>Rain</td>\n",
       "      <td>Mild</td>\n",
       "      <td>High</td>\n",
       "      <td>Weak</td>\n",
       "      <td>No</td>\n",
       "    </tr>\n",
       "    <tr>\n",
       "      <th>4</th>\n",
       "      <td>Sunny</td>\n",
       "      <td>Mild</td>\n",
       "      <td>High</td>\n",
       "      <td>Weak</td>\n",
       "      <td>Yes</td>\n",
       "    </tr>\n",
       "    <tr>\n",
       "      <th>5</th>\n",
       "      <td>Sunny</td>\n",
       "      <td>Cool</td>\n",
       "      <td>Normal</td>\n",
       "      <td>Weak</td>\n",
       "      <td>Yes</td>\n",
       "    </tr>\n",
       "    <tr>\n",
       "      <th>6</th>\n",
       "      <td>Rain</td>\n",
       "      <td>Cool</td>\n",
       "      <td>Normal</td>\n",
       "      <td>Weak</td>\n",
       "      <td>No</td>\n",
       "    </tr>\n",
       "    <tr>\n",
       "      <th>7</th>\n",
       "      <td>Sunny</td>\n",
       "      <td>Mild</td>\n",
       "      <td>Normal</td>\n",
       "      <td>Strong</td>\n",
       "      <td>Yes</td>\n",
       "    </tr>\n",
       "    <tr>\n",
       "      <th>8</th>\n",
       "      <td>Overcast</td>\n",
       "      <td>Mild</td>\n",
       "      <td>High</td>\n",
       "      <td>Strong</td>\n",
       "      <td>No</td>\n",
       "    </tr>\n",
       "    <tr>\n",
       "      <th>9</th>\n",
       "      <td>Rain</td>\n",
       "      <td>Cool</td>\n",
       "      <td>Normal</td>\n",
       "      <td>Strong</td>\n",
       "      <td>No</td>\n",
       "    </tr>\n",
       "  </tbody>\n",
       "</table>\n",
       "</div>"
      ],
      "text/plain": [
       "    Outlook Temperature Humidity    Wind PlayTennis\n",
       "0     Sunny         Hot     High    Weak        Yes\n",
       "1     Sunny         Hot     High  Strong        Yes\n",
       "2  Overcast         Hot     High    Weak         No\n",
       "3      Rain        Mild     High    Weak         No\n",
       "4     Sunny        Mild     High    Weak        Yes\n",
       "5     Sunny        Cool   Normal    Weak        Yes\n",
       "6      Rain        Cool   Normal    Weak         No\n",
       "7     Sunny        Mild   Normal  Strong        Yes\n",
       "8  Overcast        Mild     High  Strong         No\n",
       "9      Rain        Cool   Normal  Strong         No"
      ]
     },
     "execution_count": 21,
     "metadata": {},
     "output_type": "execute_result"
    }
   ],
   "source": [
    "df = pd.read_csv(\"./find_s.csv\")\n",
    "df"
   ]
  },
  {
   "cell_type": "code",
   "execution_count": 22,
   "id": "71c588e8-6594-4298-bb69-53e8d56d78a7",
   "metadata": {},
   "outputs": [],
   "source": [
    "attributes = df.iloc[:,:-1].values\n",
    "target = df.iloc[:,-1].values"
   ]
  },
  {
   "cell_type": "code",
   "execution_count": 23,
   "id": "1ea2c80c-e17a-4ff9-83e4-017e9ed3819c",
   "metadata": {},
   "outputs": [
    {
     "name": "stdout",
     "output_type": "stream",
     "text": [
      "Initial Hypothesis: ['Sunny' 'Hot' 'High' 'Weak']\n"
     ]
    }
   ],
   "source": [
    "hypothesis = None\n",
    "for i , val in enumerate(target):\n",
    "    if val.lower() == \"yes\":\n",
    "        hypothesis = attributes[i].copy()\n",
    "        break\n",
    "    if hypothesis is None:\n",
    "        print(\"No +ve instances\")\n",
    "\n",
    "print(f\"Initial Hypothesis: {hypothesis}\")"
   ]
  },
  {
   "cell_type": "code",
   "execution_count": 24,
   "id": "377ff8f0-9edd-4b0b-940d-71a5a3316721",
   "metadata": {},
   "outputs": [
    {
     "name": "stdout",
     "output_type": "stream",
     "text": [
      "['Sunny' 'Hot' 'High' 'Weak']\n",
      "['Sunny' 'Hot' 'High' '?']\n",
      "['Sunny' '?' 'High' '?']\n",
      "['Sunny' '?' '?' '?']\n",
      "['Sunny' '?' '?' '?']\n",
      "\n",
      "Final Hypothesis: ['Sunny' '?' '?' '?']\n"
     ]
    }
   ],
   "source": [
    "for i in range(len(attributes)):\n",
    "    if target[i].lower() == \"yes\":\n",
    "        for j in range(len(hypothesis)):\n",
    "            if hypothesis[j] != attributes[i][j]:\n",
    "                hypothesis[j] = \"?\"\n",
    "        print(hypothesis)\n",
    "\n",
    "print(f\"\\nFinal Hypothesis: {hypothesis}\")"
   ]
  }
 ],
 "metadata": {
  "kernelspec": {
   "display_name": "ml-labs",
   "language": "python",
   "name": "ml-labs"
  },
  "language_info": {
   "codemirror_mode": {
    "name": "ipython",
    "version": 3
   },
   "file_extension": ".py",
   "mimetype": "text/x-python",
   "name": "python",
   "nbconvert_exporter": "python",
   "pygments_lexer": "ipython3",
   "version": "3.11.11"
  }
 },
 "nbformat": 4,
 "nbformat_minor": 5
}
